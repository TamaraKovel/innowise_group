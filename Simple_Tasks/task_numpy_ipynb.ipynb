{
  "cells": [
    {
      "cell_type": "markdown",
      "id": "d3df79dd",
      "metadata": {
        "id": "d3df79dd"
      },
      "source": [
        "## Упражнения по библиотеке Numpy"
      ]
    },
    {
      "cell_type": "code",
      "execution_count": 2,
      "id": "76b9c43b",
      "metadata": {
        "id": "76b9c43b"
      },
      "outputs": [],
      "source": [
        "import numpy as np"
      ]
    },
    {
      "cell_type": "markdown",
      "id": "03727b7c",
      "metadata": {
        "id": "03727b7c"
      },
      "source": [
        "**1.** Дан случайный массив, поменять знак у элементов, значения которых между 3 и 8"
      ]
    },
    {
      "cell_type": "code",
      "execution_count": null,
      "id": "b89a7523",
      "metadata": {
        "id": "b89a7523",
        "outputId": "2e25d564-46b5-4f16-e50e-e80b32c01e24",
        "colab": {
          "base_uri": "https://localhost:8080/"
        }
      },
      "outputs": [
        {
          "output_type": "stream",
          "name": "stdout",
          "text": [
            "[ 0  1  2  3 -4 -5 -6 -7  8]\n"
          ]
        }
      ],
      "source": [
        "a = np.arange(9)\n",
        "for i in a:\n",
        "    if 3 < i < 8:\n",
        "        a[i] = i * -1\n",
        "print(a)"
      ]
    },
    {
      "cell_type": "markdown",
      "id": "5fa4abda",
      "metadata": {
        "id": "5fa4abda"
      },
      "source": [
        "**2.** Заменить максимальный элемент случайного массива на 0"
      ]
    },
    {
      "cell_type": "code",
      "execution_count": null,
      "id": "f2788a6e",
      "metadata": {
        "id": "f2788a6e",
        "colab": {
          "base_uri": "https://localhost:8080/"
        },
        "outputId": "82f204ab-c063-4c1c-dd44-fd620e01138f"
      },
      "outputs": [
        {
          "output_type": "stream",
          "name": "stdout",
          "text": [
            "[0.81467737 0.44123504 0.3440192  0.28865571 0.49761912 0.15889325\n",
            " 0.69780489 0.         0.28197602 0.36048207]\n"
          ]
        }
      ],
      "source": [
        "a = np.random.random(10)\n",
        "a[a.argmax()] = 0\n",
        "print(a)"
      ]
    },
    {
      "cell_type": "markdown",
      "id": "3cac656b",
      "metadata": {
        "id": "3cac656b"
      },
      "source": [
        "**3.** Построить прямое произведение массивов (все комбинации с каждым элементом). На вход подается двумерный массив"
      ]
    },
    {
      "cell_type": "code",
      "execution_count": null,
      "id": "3396b764",
      "metadata": {
        "id": "3396b764",
        "colab": {
          "base_uri": "https://localhost:8080/"
        },
        "outputId": "eb9444a2-6eef-42cf-9ab7-36955794bb99"
      },
      "outputs": [
        {
          "output_type": "stream",
          "name": "stdout",
          "text": [
            "(1, 1)\n",
            "(1, 2)\n",
            "(1, 3)\n",
            "(2, 1)\n",
            "(2, 2)\n",
            "(2, 3)\n",
            "(3, 1)\n",
            "(3, 2)\n",
            "(3, 3)\n"
          ]
        }
      ],
      "source": [
        "import itertools as it\n",
        "\n",
        "array = np.array([1, 2, 3])\n",
        "\n",
        "combinations = it.product(array,array)\n",
        "\n",
        "for combination in combinations:\n",
        "    print(combination)"
      ]
    },
    {
      "cell_type": "markdown",
      "id": "674c9354",
      "metadata": {
        "id": "674c9354"
      },
      "source": [
        "**4.** Даны 2 массива A (8x3) и B (2x2). Найти строки в A, которые содержат элементы из каждой строки в B, независимо от порядка элементов в B"
      ]
    },
    {
      "cell_type": "code",
      "execution_count": null,
      "id": "cb664782",
      "metadata": {
        "id": "cb664782",
        "colab": {
          "base_uri": "https://localhost:8080/"
        },
        "outputId": "db09a040-bf70-4501-a115-16109c9d94cc"
      },
      "outputs": [
        {
          "output_type": "stream",
          "name": "stdout",
          "text": [
            "[1 4 5 6]\n"
          ]
        }
      ],
      "source": [
        "a = np.random.randint(0,5,(8,3))\n",
        "b = np.random.randint(0,5,(2,2))\n",
        "c = (a[..., np.newaxis, np.newaxis] == b)\n",
        "rows = np.where(c.any((3,1)).all(1))[0]\n",
        "print(rows)"
      ]
    },
    {
      "cell_type": "markdown",
      "id": "fa46533b",
      "metadata": {
        "id": "fa46533b"
      },
      "source": [
        "**5.** Дана 10x3 матрица, найти строки из неравных значений (например строка [2,2,3] остается, строка [3,3,3] удаляется)"
      ]
    },
    {
      "cell_type": "code",
      "execution_count": null,
      "id": "fa545b23",
      "metadata": {
        "id": "fa545b23",
        "colab": {
          "base_uri": "https://localhost:8080/"
        },
        "outputId": "80b65586-96fe-410b-d84e-b14730dd0f4f"
      },
      "outputs": [
        {
          "output_type": "stream",
          "name": "stdout",
          "text": [
            "[[4 0 1]\n",
            " [3 2 0]\n",
            " [0 4 0]\n",
            " [4 2 0]\n",
            " [2 1 2]\n",
            " [1 3 2]\n",
            " [1 0 4]\n",
            " [2 1 4]\n",
            " [4 1 1]\n",
            " [0 1 2]]\n"
          ]
        }
      ],
      "source": [
        "a = np.random.randint(0,5,(10,3))\n",
        "b = a[a.max(axis = 1) != a.min(axis = 1),:]\n",
        "print(b)"
      ]
    },
    {
      "cell_type": "markdown",
      "id": "28f0d116",
      "metadata": {
        "id": "28f0d116"
      },
      "source": [
        "**6.** Дан двумерный массив. Удалить те строки, которые повторяются"
      ]
    },
    {
      "cell_type": "code",
      "execution_count": null,
      "id": "83d2c0b7",
      "metadata": {
        "id": "83d2c0b7",
        "colab": {
          "base_uri": "https://localhost:8080/"
        },
        "outputId": "c3546fdb-1891-48ed-8c28-d361be26bf57"
      },
      "outputs": [
        {
          "output_type": "execute_result",
          "data": {
            "text/plain": [
              "array([[1, 0, 1, 0, 0, 1],\n",
              "       [1, 0, 1, 0, 1, 1],\n",
              "       [1, 1, 1, 0, 0, 1]])"
            ]
          },
          "metadata": {},
          "execution_count": 12
        }
      ],
      "source": [
        "a = [[1, 0, 1, 0, 0, 1],\n",
        "     [1, 1, 1, 0, 0, 1],\n",
        "     [1, 0, 1, 0, 0, 1],\n",
        "     [1, 0, 1, 0, 1, 1],\n",
        "     [1, 0, 1, 0, 0, 1]]\n",
        "\n",
        "b = np.array(a)\n",
        "np.unique(b, axis = 0)"
      ]
    },
    {
      "cell_type": "markdown",
      "id": "6daa9e37",
      "metadata": {
        "id": "6daa9e37"
      },
      "source": [
        "______\n",
        "______"
      ]
    },
    {
      "cell_type": "markdown",
      "id": "cfbfcaff",
      "metadata": {
        "id": "cfbfcaff"
      },
      "source": [
        "Для каждой из следующих задач (1-5) нужно привести 2 реализации – одна без использования numpy (cчитайте, что там, где на входе или выходе должны быть numpy array, будут просто списки), а вторая полностью векторизованная с использованием numpy (без использования питоновских циклов/map/list comprehension).\n",
        "\n",
        "\n",
        "__Замечание 1.__ Можно считать, что все указанные объекты непустые (к примеру, в __задаче 1__ на диагонали матрицы есть ненулевые элементы).\n",
        "\n",
        "__Замечание 2.__ Для большинства задач решение занимает не больше 1-2 строк."
      ]
    },
    {
      "cell_type": "markdown",
      "id": "673cac7f",
      "metadata": {
        "id": "673cac7f"
      },
      "source": [
        "___"
      ]
    },
    {
      "cell_type": "markdown",
      "id": "ca6f585e",
      "metadata": {
        "id": "ca6f585e"
      },
      "source": [
        "* __Задача 1__: Подсчитать произведение ненулевых элементов на диагонали прямоугольной матрицы.  \n",
        " Например, для X = np.array([[1, 0, 1], [2, 0, 2], [3, 0, 3], [4, 4, 4]]) ответ 3."
      ]
    },
    {
      "cell_type": "code",
      "execution_count": null,
      "id": "065862fc",
      "metadata": {
        "id": "065862fc",
        "colab": {
          "base_uri": "https://localhost:8080/"
        },
        "outputId": "96109ec7-923c-468d-8944-45d294f82016"
      },
      "outputs": [
        {
          "output_type": "execute_result",
          "data": {
            "text/plain": [
              "3"
            ]
          },
          "metadata": {},
          "execution_count": 15
        }
      ],
      "source": [
        "import math\n",
        "X = np.array([[1, 0, 1], [2, 0, 2], [3, 0, 3], [4, 4, 4]])\n",
        "def prod_non_zero_diag_non_vect(X):\n",
        "    len_diag = min(len(X), len(X[0]))\n",
        "    mult = 1\n",
        "    for i in range(len_diag):\n",
        "        if(X[i][i] != 0):\n",
        "            mult *= X[i][i]\n",
        "    return mult\n",
        "prod_non_zero_diag_non_vect(X)"
      ]
    },
    {
      "cell_type": "code",
      "source": [
        "X = np.array([[1, 0, 1], [2, 0, 2], [3, 0, 3], [4, 4, 4]])\n",
        "def prod_non_zero_diag_vect(X):\n",
        "    diag = np.diag(X)\n",
        "    return diag[diag != 0].prod()\n",
        "prod_non_zero_diag_vect(X)"
      ],
      "metadata": {
        "colab": {
          "base_uri": "https://localhost:8080/"
        },
        "id": "4Fb-jQ-KGvnQ",
        "outputId": "3c8e3b8b-d394-4bac-ea28-82e75ee3c113"
      },
      "id": "4Fb-jQ-KGvnQ",
      "execution_count": null,
      "outputs": [
        {
          "output_type": "execute_result",
          "data": {
            "text/plain": [
              "3"
            ]
          },
          "metadata": {},
          "execution_count": 16
        }
      ]
    },
    {
      "cell_type": "markdown",
      "id": "9fc51d41",
      "metadata": {
        "id": "9fc51d41"
      },
      "source": [
        "* __Задача 2__: Даны два вектора x и y. Проверить, задают ли они одно и то же мультимножество.  \n",
        "  Например, для x = np.array([1, 2, 2, 4]), y = np.array([4, 2, 1, 2]) ответ True."
      ]
    },
    {
      "cell_type": "code",
      "execution_count": null,
      "id": "a809e02f",
      "metadata": {
        "id": "a809e02f",
        "colab": {
          "base_uri": "https://localhost:8080/"
        },
        "outputId": "73f55eff-2ef6-447c-e98d-f7198752296b"
      },
      "outputs": [
        {
          "output_type": "execute_result",
          "data": {
            "text/plain": [
              "True"
            ]
          },
          "metadata": {},
          "execution_count": 17
        }
      ],
      "source": [
        "x = np.array([1, 2, 2, 4])\n",
        "y = np.array([4, 2, 1, 2])\n",
        "def are_multisets_equal_non_vect(x, y):\n",
        "    if(len(x) != len(y)):\n",
        "        return False\n",
        "    x.sort()\n",
        "    y.sort()\n",
        "    for i in range(len(x)):\n",
        "        if(x[i] != y[i]):\n",
        "            return False\n",
        "    return True\n",
        "are_multisets_equal_non_vect(x, y)"
      ]
    },
    {
      "cell_type": "code",
      "source": [
        "x = ([1, 2, 2, 4])\n",
        "y = ([4, 2, 1, 2])\n",
        "def are_multisets_equal_vect(x, y):\n",
        "    x_nums, x_counts = np.unique(x, return_counts=True)\n",
        "    y_nums, y_counts = np.unique(y, return_counts=True)\n",
        "    if(np.shape(x_nums) != np.shape(y_nums)):\n",
        "        return False\n",
        "    if(np.any(x_nums != y_nums) or np.any(x_counts != y_counts)):\n",
        "        return False\n",
        "    return True\n",
        "are_multisets_equal_vect(x, y)"
      ],
      "metadata": {
        "colab": {
          "base_uri": "https://localhost:8080/"
        },
        "id": "POdAis41Gyg2",
        "outputId": "bc0c0eeb-f48f-43cb-bfb9-b00ca0788ba3"
      },
      "id": "POdAis41Gyg2",
      "execution_count": null,
      "outputs": [
        {
          "output_type": "execute_result",
          "data": {
            "text/plain": [
              "True"
            ]
          },
          "metadata": {},
          "execution_count": 18
        }
      ]
    },
    {
      "cell_type": "markdown",
      "id": "b9c185c7",
      "metadata": {
        "id": "b9c185c7"
      },
      "source": [
        "* __Задача 3__: Найти максимальный элемент в векторе x среди элементов, перед которыми стоит ноль. \n",
        " Например, для x = np.array([6, 2, 0, 3, 0, 0, 5, 7, 0]) ответ 5."
      ]
    },
    {
      "cell_type": "code",
      "execution_count": null,
      "id": "b57df008",
      "metadata": {
        "id": "b57df008",
        "colab": {
          "base_uri": "https://localhost:8080/"
        },
        "outputId": "cbe1fd82-76b6-45d3-a308-d3d0b59f701b"
      },
      "outputs": [
        {
          "output_type": "execute_result",
          "data": {
            "text/plain": [
              "5"
            ]
          },
          "metadata": {},
          "execution_count": 19
        }
      ],
      "source": [
        "x = np.array([6, 2, 0, 3, 0, 0, 5, 7, 0])\n",
        "def max_after_zero_non_vect(x):\n",
        "    after_zero_list = list()\n",
        "    for i in range(1, len(x)):\n",
        "        if(not x[i - 1]):\n",
        "            after_zero_list.append(x[i])\n",
        "    return max(after_zero_list)\n",
        "max_after_zero_non_vect(x)"
      ]
    },
    {
      "cell_type": "code",
      "source": [
        "x = np.array([6, 2, 0, 3, 0, 0, 5, 7, 0])\n",
        "def max_after_zero_vect(x):\n",
        "    curr = np.ones((1))\n",
        "    curr = np.hstack((curr, x))\n",
        "    ind = curr == 0\n",
        "    return np.max(x[ind[:-1]])\n",
        "max_after_zero_vect(x)"
      ],
      "metadata": {
        "colab": {
          "base_uri": "https://localhost:8080/"
        },
        "id": "vMj1LnC6G6R0",
        "outputId": "47b726e7-97ae-42c0-d97d-848057e90717"
      },
      "id": "vMj1LnC6G6R0",
      "execution_count": null,
      "outputs": [
        {
          "output_type": "execute_result",
          "data": {
            "text/plain": [
              "5"
            ]
          },
          "metadata": {},
          "execution_count": 20
        }
      ]
    },
    {
      "cell_type": "markdown",
      "id": "480be4ce",
      "metadata": {
        "id": "480be4ce"
      },
      "source": [
        "* __Задача 4__: Реализовать кодирование длин серий (Run-length encoding). Для некоторого вектора x необходимо вернуть кортеж из двух векторов одинаковой длины. Первый содержит числа, а второй - сколько раз их нужно повторить.  \n",
        " Например, для x = np.array([2, 2, 2, 3, 3, 3, 5]) ответ (np.array([2, 3, 5]), np.array([3, 3, 1]))."
      ]
    },
    {
      "cell_type": "code",
      "execution_count": null,
      "id": "3c592124",
      "metadata": {
        "id": "3c592124",
        "colab": {
          "base_uri": "https://localhost:8080/"
        },
        "outputId": "82b87ed6-44a4-45f6-e604-eac0b4db6e60"
      },
      "outputs": [
        {
          "output_type": "execute_result",
          "data": {
            "text/plain": [
              "([2, 3, 5], [3, 3, 1])"
            ]
          },
          "metadata": {},
          "execution_count": 21
        }
      ],
      "source": [
        "x = np.array([2, 2, 2, 3, 3, 3, 5])\n",
        "def run_length_encoding_non_vect(x):\n",
        "    val_list = [x[0]]\n",
        "    num_list = list()\n",
        "    counter = 1\n",
        "    for i in range(1, len(x)):\n",
        "        if(x[i - 1] == x[i]):\n",
        "            counter = counter + 1\n",
        "        else:\n",
        "            val_list.append(x[i])\n",
        "            num_list.append(counter)\n",
        "            counter = 1\n",
        "    num_list.append(counter)\n",
        "    return (val_list, num_list)\n",
        "run_length_encoding_non_vect(x)"
      ]
    },
    {
      "cell_type": "code",
      "source": [
        "x = np.array([2, 2, 2, 3, 3, 3, 5])\n",
        "def run_length_encoding_vect(x):\n",
        "    y = np.hstack((np.ones(1), x[:- 1]))\n",
        "    first_positions = x != y\n",
        "    first_positions[0] = True\n",
        "    indexes_1 = np.arange(np.size(x))[first_positions]\n",
        "    indexes_2 = np.hstack((indexes_1[1:], np.array([np.size(x)])))\n",
        "    return x[first_positions], indexes_2 - indexes_1\n",
        "run_length_encoding_vect(x)"
      ],
      "metadata": {
        "colab": {
          "base_uri": "https://localhost:8080/"
        },
        "id": "mkPPhaWiHAGM",
        "outputId": "d0f163d2-0625-441d-c364-fb3c6ad20fd0"
      },
      "id": "mkPPhaWiHAGM",
      "execution_count": null,
      "outputs": [
        {
          "output_type": "execute_result",
          "data": {
            "text/plain": [
              "(array([2, 3, 5]), array([3, 3, 1]))"
            ]
          },
          "metadata": {},
          "execution_count": 22
        }
      ]
    },
    {
      "cell_type": "markdown",
      "id": "077532ec",
      "metadata": {
        "id": "077532ec"
      },
      "source": [
        "* __Задача 5__: Даны две выборки объектов - X и Y. Вычислить матрицу евклидовых расстояний между объектами. Сравните с функцией scipy.spatial.distance.cdist по скорости работы."
      ]
    },
    {
      "cell_type": "code",
      "execution_count": null,
      "id": "1e807797",
      "metadata": {
        "id": "1e807797",
        "colab": {
          "base_uri": "https://localhost:8080/"
        },
        "outputId": "d3984894-90ea-47d5-9d8f-b5da2e160e73"
      },
      "outputs": [
        {
          "output_type": "stream",
          "name": "stdout",
          "text": [
            "100000 loops, best of 5: 17.1 µs per loop\n"
          ]
        }
      ],
      "source": [
        "X = np.array(\n",
        "    [[243,  3173],\n",
        "     [525,  2997]])\n",
        "Y = np.array(\n",
        "    [[682, 2644],\n",
        "     [277, 2651],\n",
        "     [396, 2640]])\n",
        "def pairwise_distance_non_vect(X, Y):\n",
        "    result_matr = list()\n",
        "    for i in range(len(X)):\n",
        "        curr_list = list()\n",
        "        for j in range(len(Y)):\n",
        "            dist = 0\n",
        "            for k in range(len(X[0])):\n",
        "                dist += (X[i][k] - Y[j][k]) ** 2\n",
        "            curr_list.append(math.sqrt(dist))\n",
        "        result_matr.append(curr_list)\n",
        "    return result_matr\n",
        "pairwise_distance_non_vect(X, Y)\n",
        "%timeit pairwise_distance_non_vect(X, Y)"
      ]
    },
    {
      "cell_type": "code",
      "source": [
        "X = np.array(\n",
        "    [[243,  3173],\n",
        "     [525,  2997]])\n",
        "Y = np.array(\n",
        "    [[682, 2644],\n",
        "     [277, 2651],\n",
        "     [396, 2640]])\n",
        "def pairwise_distance_vect(X, Y):\n",
        "    return np.sqrt(np.sum((X[:, np.newaxis] - Y) ** 2, axis=-1))\n",
        "pairwise_distance_vect(X, Y)\n",
        "%timeit pairwise_distance_vect(X, Y)"
      ],
      "metadata": {
        "colab": {
          "base_uri": "https://localhost:8080/"
        },
        "id": "N-Pa1vIgHMZ8",
        "outputId": "e22c17db-92f1-4675-cf16-521a63a3305a"
      },
      "id": "N-Pa1vIgHMZ8",
      "execution_count": null,
      "outputs": [
        {
          "output_type": "stream",
          "name": "stdout",
          "text": [
            "The slowest run took 8.17 times longer than the fastest. This could mean that an intermediate result is being cached.\n",
            "100000 loops, best of 5: 10.9 µs per loop\n"
          ]
        }
      ]
    },
    {
      "cell_type": "code",
      "source": [
        "from scipy import spatial\n",
        "X = np.array(\n",
        "    [[243,  3173],\n",
        "     [525,  2997]])\n",
        "Y = np.array(\n",
        "    [[682, 2644],\n",
        "     [277, 2651],\n",
        "     [396, 2640]])\n",
        "def pairwise_distance_scipy(X, Y):\n",
        "  return np.min(spatial.distance.cdist(X, Y), axis = 1)\n",
        "pairwise_distance_scipy(X, Y)\n",
        "%timeit pairwise_distance_scipy(X, Y)"
      ],
      "metadata": {
        "colab": {
          "base_uri": "https://localhost:8080/"
        },
        "id": "wqJcM9LMHMuN",
        "outputId": "a61bcccc-00b2-444b-9203-763d45907a3c"
      },
      "id": "wqJcM9LMHMuN",
      "execution_count": 9,
      "outputs": [
        {
          "output_type": "stream",
          "name": "stdout",
          "text": [
            "The slowest run took 17.37 times longer than the fastest. This could mean that an intermediate result is being cached.\n",
            "100000 loops, best of 5: 17.3 µs per loop\n"
          ]
        }
      ]
    },
    {
      "cell_type": "markdown",
      "id": "973e8064",
      "metadata": {
        "id": "973e8064"
      },
      "source": [
        "_______\n",
        "________"
      ]
    },
    {
      "cell_type": "markdown",
      "id": "1104acb7",
      "metadata": {
        "id": "1104acb7"
      },
      "source": [
        "* #### __Задача 6__: CrunchieMunchies __*__\n",
        "\n",
        "Вы работаете в отделе маркетинга пищевой компании MyCrunch, которая разрабатывает новый вид вкусных, полезных злаков под названием **CrunchieMunchies**.\n",
        "\n",
        "Вы хотите продемонстрировать потребителям, насколько полезны ваши хлопья по сравнению с другими ведущими брендами, поэтому вы собрали данные о питании нескольких разных конкурентов.\n",
        "\n",
        "Ваша задача - использовать вычисления Numpy для анализа этих данных и доказать, что ваши **СrunchieMunchies** - самый здоровый выбор для потребителей.\n"
      ]
    },
    {
      "cell_type": "code",
      "execution_count": 121,
      "id": "10a77f8d",
      "metadata": {
        "id": "10a77f8d"
      },
      "outputs": [],
      "source": [
        "import numpy as np"
      ]
    },
    {
      "cell_type": "markdown",
      "id": "ab87cb03",
      "metadata": {
        "id": "ab87cb03"
      },
      "source": [
        "1. Просмотрите файл cereal.csv. Этот файл содержит количества калорий для различных марок хлопьев. Загрузите данные из файла и сохраните их как calorie_stats."
      ]
    },
    {
      "cell_type": "code",
      "execution_count": 141,
      "id": "9681ebf2",
      "metadata": {
        "id": "9681ebf2",
        "outputId": "8b27c279-9171-4229-bad7-46ee035972a0",
        "colab": {
          "base_uri": "https://localhost:8080/"
        }
      },
      "outputs": [
        {
          "output_type": "execute_result",
          "data": {
            "text/plain": [
              "array([ 70., 120.,  70.,  50., 110., 110., 110., 130.,  90.,  90., 120.,\n",
              "       110., 120., 110., 110., 110., 100., 110., 110., 110., 100., 110.,\n",
              "       100., 100., 110., 110., 100., 120., 120., 110., 100., 110., 100.,\n",
              "       110., 120., 120., 110., 110., 110., 140., 110., 100., 110., 100.,\n",
              "       150., 150., 160., 100., 120., 140.,  90., 130., 120., 100.,  50.,\n",
              "        50., 100., 100., 120., 100.,  90., 110., 110.,  80.,  90.,  90.,\n",
              "       110., 110.,  90., 110., 140., 100., 110., 110., 100., 100., 110.])"
            ]
          },
          "metadata": {},
          "execution_count": 141
        }
      ],
      "source": [
        "import numpy as np\n",
        "calorie_stats = np.loadtxt(\"cereal.csv\", delimiter=\",\")\n",
        "calorie_stats"
      ]
    },
    {
      "cell_type": "markdown",
      "id": "139cfbd8",
      "metadata": {
        "id": "139cfbd8"
      },
      "source": [
        "2. В одной порции CrunchieMunchies содержится 60 калорий. Насколько выше среднее количество калорий у ваших конкурентов?\n",
        "\n",
        "Сохраните ответ в переменной average_calories и распечатайте переменную в терминале"
      ]
    },
    {
      "cell_type": "code",
      "execution_count": 164,
      "id": "7036d240",
      "metadata": {
        "id": "7036d240",
        "colab": {
          "base_uri": "https://localhost:8080/"
        },
        "outputId": "88894ba1-c1a2-4229-9d9d-428a7f11419c"
      },
      "outputs": [
        {
          "output_type": "execute_result",
          "data": {
            "text/plain": [
              "46.883116883116884"
            ]
          },
          "metadata": {},
          "execution_count": 164
        }
      ],
      "source": [
        "calories_mean = np.mean(calorie_stats)\n",
        "average_calories = calories_mean - 60\n",
        "calories_mean\n",
        "average_calories"
      ]
    },
    {
      "cell_type": "code",
      "source": [
        "calories_mean"
      ],
      "metadata": {
        "colab": {
          "base_uri": "https://localhost:8080/"
        },
        "id": "-v_Ny6pWz1C8",
        "outputId": "656331fb-1855-4f13-cd6c-fc86ec83b536"
      },
      "id": "-v_Ny6pWz1C8",
      "execution_count": 165,
      "outputs": [
        {
          "output_type": "execute_result",
          "data": {
            "text/plain": [
              "106.88311688311688"
            ]
          },
          "metadata": {},
          "execution_count": 165
        }
      ]
    },
    {
      "cell_type": "markdown",
      "id": "b2ddb4cd",
      "metadata": {
        "id": "b2ddb4cd"
      },
      "source": [
        "3. Корректно ли среднее количество калорий отражает распределение набора данных? Давайте отсортируем данные и посмотрим.\n",
        "\n",
        "Отсортируйте данные и сохраните результат в переменной calorie_stats_sorted. Распечатайте отсортированную информацию"
      ]
    },
    {
      "cell_type": "code",
      "execution_count": 148,
      "id": "46eeb4ed",
      "metadata": {
        "id": "46eeb4ed",
        "colab": {
          "base_uri": "https://localhost:8080/"
        },
        "outputId": "ac610b33-ea7a-4081-dbe3-08ef82161df7"
      },
      "outputs": [
        {
          "output_type": "execute_result",
          "data": {
            "text/plain": [
              "array([ 50.,  50.,  50.,  70.,  70.,  80.,  90.,  90.,  90.,  90.,  90.,\n",
              "        90.,  90., 100., 100., 100., 100., 100., 100., 100., 100., 100.,\n",
              "       100., 100., 100., 100., 100., 100., 100., 100., 110., 110., 110.,\n",
              "       110., 110., 110., 110., 110., 110., 110., 110., 110., 110., 110.,\n",
              "       110., 110., 110., 110., 110., 110., 110., 110., 110., 110., 110.,\n",
              "       110., 110., 110., 110., 120., 120., 120., 120., 120., 120., 120.,\n",
              "       120., 120., 120., 130., 130., 140., 140., 140., 150., 150., 160.])"
            ]
          },
          "metadata": {},
          "execution_count": 148
        }
      ],
      "source": [
        "calorie_stats_sorted = np.sort(calorie_stats)\n",
        "calorie_stats_sorted"
      ]
    },
    {
      "cell_type": "markdown",
      "id": "4dc74116",
      "metadata": {
        "id": "4dc74116"
      },
      "source": [
        "4. Похоже, что большинство значений выше среднего. Давайте посмотрим, является ли медиана наиболее корректным показателем набора данных.\n",
        "\n",
        "Вычислите медиану набора данных и сохраните свой ответ в median_calories. Выведите медиану, чтобы вы могли видеть, как она сравнивается со средним значением."
      ]
    },
    {
      "cell_type": "code",
      "execution_count": 163,
      "id": "b56627c3",
      "metadata": {
        "id": "b56627c3",
        "colab": {
          "base_uri": "https://localhost:8080/"
        },
        "outputId": "f1dbc086-6592-4c49-9fe4-aed9659c0d3e"
      },
      "outputs": [
        {
          "output_type": "stream",
          "name": "stdout",
          "text": [
            "median_calories: 110.0 - calories_mean: 106.9\n"
          ]
        }
      ],
      "source": [
        "median_calories = np.median(calorie_stats)\n",
        "print('median_calories:',median_calories,'- calories_mean:',np.round(np.mean(calorie_stats),1))"
      ]
    },
    {
      "cell_type": "markdown",
      "id": "a63ab72f",
      "metadata": {
        "id": "a63ab72f"
      },
      "source": [
        "5. В то время как медиана показывает, что по крайней мере половина наших значений составляет более 100 калорий, было бы более впечатляюще показать, что значительная часть конкурентов имеет более высокое количество калорий, чем CrunchieMunchies.\n",
        "\n",
        "Рассчитайте различные процентили и распечатайте их, пока не найдете наименьший процентиль, превышающий 60 калорий. Сохраните это значение в переменной nth_percentile."
      ]
    },
    {
      "cell_type": "code",
      "execution_count": 168,
      "id": "fe80ce03",
      "metadata": {
        "id": "fe80ce03",
        "colab": {
          "base_uri": "https://localhost:8080/"
        },
        "outputId": "fea09ca1-b7f5-40aa-db43-90aba9d275a6"
      },
      "outputs": [
        {
          "output_type": "execute_result",
          "data": {
            "text/plain": [
              "70.0"
            ]
          },
          "metadata": {},
          "execution_count": 168
        }
      ],
      "source": [
        "np.percentile(calorie_stats, 1)\n",
        "np.percentile(calorie_stats, 2)\n",
        "np.percentile(calorie_stats, 3)\n",
        "np.percentile(calorie_stats, 4)\n",
        "\n"
      ]
    },
    {
      "cell_type": "markdown",
      "id": "a2a3c5aa",
      "metadata": {
        "id": "a2a3c5aa"
      },
      "source": [
        "6. Хотя процентиль показывает нам, что у большинства конкурентов количество калорий намного выше, это неудобная концепция для использования в маркетинговых материалах.\n",
        "\n",
        "Вместо этого давайте подсчитаем процент хлопьев, в которых содержится более 60 калорий на порцию. Сохраните свой ответ в переменной more_calories и распечатайте его"
      ]
    },
    {
      "cell_type": "code",
      "execution_count": 160,
      "id": "ade0f6ea",
      "metadata": {
        "id": "ade0f6ea",
        "colab": {
          "base_uri": "https://localhost:8080/"
        },
        "outputId": "2fa9d4e2-1d96-40af-cce7-ecca415d4181"
      },
      "outputs": [
        {
          "output_type": "execute_result",
          "data": {
            "text/plain": [
              "0.961038961038961"
            ]
          },
          "metadata": {},
          "execution_count": 160
        }
      ],
      "source": [
        "more_calories = np.mean(calorie_stats > 60)\n",
        "more_calories"
      ]
    },
    {
      "cell_type": "markdown",
      "id": "1735d65b",
      "metadata": {
        "id": "1735d65b"
      },
      "source": [
        "7. Это действительно высокий процент. Это будет очень полезно, когда мы будем продвигать CrunchieMunchies. Но один вопрос заключается в том, насколько велики различия в наборе данных? Можем ли мы сделать обобщение, что в большинстве злаков содержится около 100 калорий или разброс еще больше?\n",
        "\n",
        "Рассчитайте величину отклонения, найдя стандартное отклонение, Сохраните свой ответ в calorie_std и распечатайте на терминале. Как мы можем включить эту ценность в наш анализ?"
      ]
    },
    {
      "cell_type": "code",
      "execution_count": 169,
      "id": "85c8df1f",
      "metadata": {
        "id": "85c8df1f",
        "colab": {
          "base_uri": "https://localhost:8080/"
        },
        "outputId": "95cfe5d1-4c38-4595-825e-e3ea71dcb589"
      },
      "outputs": [
        {
          "output_type": "execute_result",
          "data": {
            "text/plain": [
              "19.35718533390827"
            ]
          },
          "metadata": {},
          "execution_count": 169
        }
      ],
      "source": [
        "calorie_std = np.std(calorie_stats)\n",
        "calorie_std"
      ]
    },
    {
      "cell_type": "markdown",
      "source": [
        "Это стандартное отклонение, которое поможет нам понять как распределены значения относительно среднего значения в нашей выборке. Чем ближе стандартное отклонение к 0, тем надежнее среднее."
      ],
      "metadata": {
        "id": "uX3NgQi66mjh"
      },
      "id": "uX3NgQi66mjh"
    },
    {
      "cell_type": "markdown",
      "id": "037455c5",
      "metadata": {
        "id": "037455c5"
      },
      "source": [
        "8. Напишите короткий абзац, в котором кратко изложите свои выводы и то, как, по вашему мнению, эти данные могут быть использованы в интересах Mycrunch при маркетинге CrunchieMunchies."
      ]
    },
    {
      "cell_type": "markdown",
      "source": [
        "Было проанализировано 77 различных марок хлопьев. В 96% из анализируемых хлопьев калорийнось выше, чем у CrunchieMunchies. B среднем калорийность составляла 106,9 калорий со стандартным отклонением 19,4. Лишь 3 марки имеют калорийность меньше, чем CrunchieMunchies."
      ],
      "metadata": {
        "id": "fxpDLsyZ8hea"
      },
      "id": "fxpDLsyZ8hea"
    },
    {
      "cell_type": "code",
      "source": [
        ""
      ],
      "metadata": {
        "id": "FlWVckyf_Njt"
      },
      "id": "FlWVckyf_Njt",
      "execution_count": null,
      "outputs": []
    }
  ],
  "metadata": {
    "kernelspec": {
      "display_name": "Python 3 (ipykernel)",
      "language": "python",
      "name": "python3"
    },
    "language_info": {
      "codemirror_mode": {
        "name": "ipython",
        "version": 3
      },
      "file_extension": ".py",
      "mimetype": "text/x-python",
      "name": "python",
      "nbconvert_exporter": "python",
      "pygments_lexer": "ipython3",
      "version": "3.8.10"
    },
    "colab": {
      "name": "task_numpy.ipynb\"",
      "provenance": [],
      "collapsed_sections": []
    }
  },
  "nbformat": 4,
  "nbformat_minor": 5
}